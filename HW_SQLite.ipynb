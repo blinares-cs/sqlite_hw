{
  "cells": [
    {
      "cell_type": "markdown",
      "id": "e0e34ecc-a1b1-4ec3-b450-f0da7185a8c2",
      "metadata": {
        "id": "e0e34ecc-a1b1-4ec3-b450-f0da7185a8c2"
      },
      "source": [
        "# Working with SQLite and Pandas Homework"
      ]
    },
    {
      "cell_type": "markdown",
      "id": "228aaae3-0ee1-417b-960b-beac25e052d6",
      "metadata": {
        "id": "228aaae3-0ee1-417b-960b-beac25e052d6"
      },
      "source": [
        "### 1. Set Up the Database"
      ]
    },
    {
      "cell_type": "code",
      "execution_count": 1,
      "id": "1b0f487e-9463-42e3-8c56-15cfa117ec59",
      "metadata": {
        "id": "1b0f487e-9463-42e3-8c56-15cfa117ec59"
      },
      "outputs": [],
      "source": [
        "#Import libraries\n",
        "import sqlite3\n",
        "import pandas as pd\n",
        "import matplotlib.pyplot as plt\n",
        "\n",
        "# Connect to SQLite database\n",
        "conn = sqlite3.connect('student_grades.db')\n",
        "\n",
        "# Create cursor object\n",
        "c = conn.cursor()"
      ]
    },
    {
      "cell_type": "markdown",
      "id": "23f8ac28-c07b-4139-a9f0-6e90aa88fc5c",
      "metadata": {
        "id": "23f8ac28-c07b-4139-a9f0-6e90aa88fc5c"
      },
      "source": [
        "### 2. Create the Necessary Tables"
      ]
    },
    {
      "cell_type": "code",
      "execution_count": 2,
      "id": "6b9c8306-369e-4343-932a-ae0af327b4f0",
      "metadata": {
        "id": "6b9c8306-369e-4343-932a-ae0af327b4f0"
      },
      "outputs": [],
      "source": [
        "# Create \"students\" table to store student information\n",
        "c.execute(\n",
        "    \"\"\"CREATE TABLE students (\n",
        "    student_id INTEGER PRIMARY KEY AUTOINCREMENT,\n",
        "    first_name TEXT,\n",
        "    last_name TEXT\n",
        "    );\"\"\"\n",
        ")\n",
        "conn.commit()"
      ]
    },
    {
      "cell_type": "code",
      "execution_count": 3,
      "id": "579ea02d-1637-4250-b577-acd739a35bcc",
      "metadata": {
        "id": "579ea02d-1637-4250-b577-acd739a35bcc"
      },
      "outputs": [],
      "source": [
        "# Create \"grades\" table to store student grades for different subjects\n",
        "c.execute(\n",
        "    \"\"\"CREATE TABLE grades (\n",
        "    grade_id INTEGER PRIMARY KEY AUTOINCREMENT,\n",
        "    student_id INTEGER,\n",
        "    subject TEXT,\n",
        "    grade INTEGER,\n",
        "    FOREIGN KEY (student_id) REFERENCES students (student_id)\n",
        "    );\"\"\"\n",
        ")\n",
        "conn.commit()"
      ]
    },
    {
      "cell_type": "markdown",
      "id": "d38a6cbd-030b-4d00-bbd0-1e7a44f11520",
      "metadata": {
        "id": "d38a6cbd-030b-4d00-bbd0-1e7a44f11520"
      },
      "source": [
        "### 3. Insert Data into the Tables"
      ]
    },
    {
      "cell_type": "code",
      "execution_count": 4,
      "id": "eda81b04-3b8e-4129-ae5f-e95f64a39aa3",
      "metadata": {
        "id": "eda81b04-3b8e-4129-ae5f-e95f64a39aa3"
      },
      "outputs": [],
      "source": [
        "# Inserting the data into the \"students\" table\n",
        "c.execute(\"INSERT INTO students (first_name, last_name) VALUES ('Alice', 'Johnson')\")\n",
        "c.execute(\"INSERT INTO students (first_name, last_name) VALUES ('Bob', 'Smith')\")\n",
        "c.execute(\"INSERT INTO students (first_name, last_name) VALUES ('Carol', 'White')\")\n",
        "c.execute(\"INSERT INTO students (first_name, last_name) VALUES ('David', 'Brown')\")\n",
        "c.execute(\"INSERT INTO students (first_name, last_name) VALUES ('Eve', 'Davis')\")\n",
        "\n",
        "conn.commit()"
      ]
    },
    {
      "cell_type": "code",
      "execution_count": 5,
      "id": "bd0f3458-77c8-4294-9cf1-9439b11cd298",
      "metadata": {
        "id": "bd0f3458-77c8-4294-9cf1-9439b11cd298"
      },
      "outputs": [],
      "source": [
        "# Inserting the data into the \"grades\" table\n",
        "c.execute(\"INSERT INTO grades (student_id, subject, grade) VALUES (1, 'Math', 95)\")\n",
        "c.execute(\"INSERT INTO grades (student_id, subject, grade) VALUES (1, 'English', 88)\")\n",
        "c.execute(\"INSERT INTO grades (student_id, subject, grade) VALUES (1, 'History', 90)\")\n",
        "c.execute(\"INSERT INTO grades (student_id, subject, grade) VALUES (2, 'Math', 82)\")\n",
        "c.execute(\"INSERT INTO grades (student_id, subject, grade) VALUES (2, 'English', 76)\")\n",
        "c.execute(\"INSERT INTO grades (student_id, subject, grade) VALUES (2, 'History', 85)\")\n",
        "c.execute(\"INSERT INTO grades (student_id, subject, grade) VALUES (3, 'Math', 78)\")\n",
        "c.execute(\"INSERT INTO grades (student_id, subject, grade) VALUES (3, 'English', 94)\")\n",
        "c.execute(\"INSERT INTO grades (student_id, subject, grade) VALUES (3, 'History', 85)\")\n",
        "c.execute(\"INSERT INTO grades (student_id, subject, grade) VALUES (4, 'Math', 92)\")\n",
        "c.execute(\"INSERT INTO grades (student_id, subject, grade) VALUES (4, 'English', 93)\")\n",
        "c.execute(\"INSERT INTO grades (student_id, subject, grade) VALUES (4, 'History', 93)\")\n",
        "c.execute(\"INSERT INTO grades (student_id, subject, grade) VALUES (5, 'Math', 91)\")\n",
        "c.execute(\"INSERT INTO grades (student_id, subject, grade) VALUES (5, 'English', 90)\")\n",
        "c.execute(\"INSERT INTO grades (student_id, subject, grade) VALUES (5, 'History', 94)\")\n",
        "\n",
        "conn.commit()\n"
      ]
    },
    {
      "cell_type": "markdown",
      "id": "203bf605-932e-46d0-88e1-effa1851da8b",
      "metadata": {
        "id": "203bf605-932e-46d0-88e1-effa1851da8b"
      },
      "source": [
        "### 4. Perform SQL Queries"
      ]
    },
    {
      "cell_type": "code",
      "execution_count": 6,
      "id": "86de596f-14d1-449b-bb1a-5fd42dc62bd3",
      "metadata": {
        "id": "86de596f-14d1-449b-bb1a-5fd42dc62bd3"
      },
      "outputs": [],
      "source": [
        "%load_ext sql\n",
        "%sql sqlite:///student_grades.db"
      ]
    },
    {
      "cell_type": "code",
      "execution_count": 7,
      "id": "979e9978-4a67-47dc-9a94-0dc7e480aa5c",
      "metadata": {
        "colab": {
          "base_uri": "https://localhost:8080/",
          "height": 391
        },
        "id": "979e9978-4a67-47dc-9a94-0dc7e480aa5c",
        "outputId": "f5d4cd5e-e59e-45c2-f4d5-47cbccef6633"
      },
      "outputs": [
        {
          "output_type": "stream",
          "name": "stdout",
          "text": [
            " * sqlite:///student_grades.db\n",
            "Done.\n"
          ]
        },
        {
          "output_type": "execute_result",
          "data": {
            "text/plain": [
              "[('Alice', 'Johnson', 'Math', 95),\n",
              " ('Alice', 'Johnson', 'English', 88),\n",
              " ('Alice', 'Johnson', 'History', 90),\n",
              " ('Bob', 'Smith', 'Math', 82),\n",
              " ('Bob', 'Smith', 'English', 76),\n",
              " ('Bob', 'Smith', 'History', 85),\n",
              " ('Carol', 'White', 'Math', 78),\n",
              " ('Carol', 'White', 'English', 94),\n",
              " ('Carol', 'White', 'History', 85),\n",
              " ('David', 'Brown', 'Math', 92),\n",
              " ('David', 'Brown', 'English', 93),\n",
              " ('David', 'Brown', 'History', 93),\n",
              " ('Eve', 'Davis', 'Math', 91),\n",
              " ('Eve', 'Davis', 'English', 90),\n",
              " ('Eve', 'Davis', 'History', 94)]"
            ],
            "text/html": [
              "<table>\n",
              "    <thead>\n",
              "        <tr>\n",
              "            <th>first_name</th>\n",
              "            <th>last_name</th>\n",
              "            <th>subject</th>\n",
              "            <th>grade</th>\n",
              "        </tr>\n",
              "    </thead>\n",
              "    <tbody>\n",
              "        <tr>\n",
              "            <td>Alice</td>\n",
              "            <td>Johnson</td>\n",
              "            <td>Math</td>\n",
              "            <td>95</td>\n",
              "        </tr>\n",
              "        <tr>\n",
              "            <td>Alice</td>\n",
              "            <td>Johnson</td>\n",
              "            <td>English</td>\n",
              "            <td>88</td>\n",
              "        </tr>\n",
              "        <tr>\n",
              "            <td>Alice</td>\n",
              "            <td>Johnson</td>\n",
              "            <td>History</td>\n",
              "            <td>90</td>\n",
              "        </tr>\n",
              "        <tr>\n",
              "            <td>Bob</td>\n",
              "            <td>Smith</td>\n",
              "            <td>Math</td>\n",
              "            <td>82</td>\n",
              "        </tr>\n",
              "        <tr>\n",
              "            <td>Bob</td>\n",
              "            <td>Smith</td>\n",
              "            <td>English</td>\n",
              "            <td>76</td>\n",
              "        </tr>\n",
              "        <tr>\n",
              "            <td>Bob</td>\n",
              "            <td>Smith</td>\n",
              "            <td>History</td>\n",
              "            <td>85</td>\n",
              "        </tr>\n",
              "        <tr>\n",
              "            <td>Carol</td>\n",
              "            <td>White</td>\n",
              "            <td>Math</td>\n",
              "            <td>78</td>\n",
              "        </tr>\n",
              "        <tr>\n",
              "            <td>Carol</td>\n",
              "            <td>White</td>\n",
              "            <td>English</td>\n",
              "            <td>94</td>\n",
              "        </tr>\n",
              "        <tr>\n",
              "            <td>Carol</td>\n",
              "            <td>White</td>\n",
              "            <td>History</td>\n",
              "            <td>85</td>\n",
              "        </tr>\n",
              "        <tr>\n",
              "            <td>David</td>\n",
              "            <td>Brown</td>\n",
              "            <td>Math</td>\n",
              "            <td>92</td>\n",
              "        </tr>\n",
              "        <tr>\n",
              "            <td>David</td>\n",
              "            <td>Brown</td>\n",
              "            <td>English</td>\n",
              "            <td>93</td>\n",
              "        </tr>\n",
              "        <tr>\n",
              "            <td>David</td>\n",
              "            <td>Brown</td>\n",
              "            <td>History</td>\n",
              "            <td>93</td>\n",
              "        </tr>\n",
              "        <tr>\n",
              "            <td>Eve</td>\n",
              "            <td>Davis</td>\n",
              "            <td>Math</td>\n",
              "            <td>91</td>\n",
              "        </tr>\n",
              "        <tr>\n",
              "            <td>Eve</td>\n",
              "            <td>Davis</td>\n",
              "            <td>English</td>\n",
              "            <td>90</td>\n",
              "        </tr>\n",
              "        <tr>\n",
              "            <td>Eve</td>\n",
              "            <td>Davis</td>\n",
              "            <td>History</td>\n",
              "            <td>94</td>\n",
              "        </tr>\n",
              "    </tbody>\n",
              "</table>"
            ]
          },
          "metadata": {},
          "execution_count": 7
        }
      ],
      "source": [
        "# 1. Retrieve all students' names and their grades\n",
        "%%sql\n",
        "SELECT DISTINCT s.first_name, s.last_name, g.subject, g.grade\n",
        "FROM students s\n",
        "JOIN grades g ON s.student_id = g.student_id;"
      ]
    },
    {
      "cell_type": "code",
      "execution_count": 8,
      "id": "0688615b-161d-444a-ab99-0c1680f3d8f7",
      "metadata": {
        "colab": {
          "base_uri": "https://localhost:8080/",
          "height": 180
        },
        "id": "0688615b-161d-444a-ab99-0c1680f3d8f7",
        "outputId": "fa55568e-eb76-48e2-e6e0-deec98390c6e"
      },
      "outputs": [
        {
          "output_type": "stream",
          "name": "stdout",
          "text": [
            " * sqlite:///student_grades.db\n",
            "Done.\n"
          ]
        },
        {
          "output_type": "execute_result",
          "data": {
            "text/plain": [
              "[('Alice', 'Johnson', 91.0),\n",
              " ('Bob', 'Smith', 81.0),\n",
              " ('Carol', 'White', 85.66666666666667),\n",
              " ('David', 'Brown', 92.66666666666667),\n",
              " ('Eve', 'Davis', 91.66666666666667)]"
            ],
            "text/html": [
              "<table>\n",
              "    <thead>\n",
              "        <tr>\n",
              "            <th>first_name</th>\n",
              "            <th>last_name</th>\n",
              "            <th>avg_grade</th>\n",
              "        </tr>\n",
              "    </thead>\n",
              "    <tbody>\n",
              "        <tr>\n",
              "            <td>Alice</td>\n",
              "            <td>Johnson</td>\n",
              "            <td>91.0</td>\n",
              "        </tr>\n",
              "        <tr>\n",
              "            <td>Bob</td>\n",
              "            <td>Smith</td>\n",
              "            <td>81.0</td>\n",
              "        </tr>\n",
              "        <tr>\n",
              "            <td>Carol</td>\n",
              "            <td>White</td>\n",
              "            <td>85.66666666666667</td>\n",
              "        </tr>\n",
              "        <tr>\n",
              "            <td>David</td>\n",
              "            <td>Brown</td>\n",
              "            <td>92.66666666666667</td>\n",
              "        </tr>\n",
              "        <tr>\n",
              "            <td>Eve</td>\n",
              "            <td>Davis</td>\n",
              "            <td>91.66666666666667</td>\n",
              "        </tr>\n",
              "    </tbody>\n",
              "</table>"
            ]
          },
          "metadata": {},
          "execution_count": 8
        }
      ],
      "source": [
        "# 2. Find the average grade for each student\n",
        "%%sql\n",
        "SELECT s.first_name, s.last_name, AVG(g.grade) AS avg_grade\n",
        "FROM students s\n",
        "JOIN grades g ON s.student_id = g.student_id\n",
        "GROUP BY s.student_id;"
      ]
    },
    {
      "cell_type": "code",
      "execution_count": 9,
      "id": "d1e7054d-c6ab-4fca-8b79-a931fa72b39d",
      "metadata": {
        "colab": {
          "base_uri": "https://localhost:8080/",
          "height": 96
        },
        "id": "d1e7054d-c6ab-4fca-8b79-a931fa72b39d",
        "outputId": "361599f6-c25f-42fb-c153-c6e196a48f8c"
      },
      "outputs": [
        {
          "output_type": "stream",
          "name": "stdout",
          "text": [
            " * sqlite:///student_grades.db\n",
            "Done.\n"
          ]
        },
        {
          "output_type": "execute_result",
          "data": {
            "text/plain": [
              "[('David', 'Brown', 92.66666666666667)]"
            ],
            "text/html": [
              "<table>\n",
              "    <thead>\n",
              "        <tr>\n",
              "            <th>first_name</th>\n",
              "            <th>last_name</th>\n",
              "            <th>avg_grade</th>\n",
              "        </tr>\n",
              "    </thead>\n",
              "    <tbody>\n",
              "        <tr>\n",
              "            <td>David</td>\n",
              "            <td>Brown</td>\n",
              "            <td>92.66666666666667</td>\n",
              "        </tr>\n",
              "    </tbody>\n",
              "</table>"
            ]
          },
          "metadata": {},
          "execution_count": 9
        }
      ],
      "source": [
        "# 3. Find the student with the highest average grade\n",
        "%%sql\n",
        "SELECT s.first_name, s.last_name, AVG(g.grade) AS avg_grade\n",
        "FROM students s\n",
        "JOIN grades g ON s.student_id = g.student_id\n",
        "GROUP BY s.student_id\n",
        "ORDER BY avg_grade DESC\n",
        "LIMIT 1;"
      ]
    },
    {
      "cell_type": "code",
      "execution_count": 10,
      "id": "c0775758-b46a-4867-961a-ef42464e795b",
      "metadata": {
        "colab": {
          "base_uri": "https://localhost:8080/",
          "height": 96
        },
        "id": "c0775758-b46a-4867-961a-ef42464e795b",
        "outputId": "49c81cda-7ec7-4e9e-bd56-2f1845b9f027"
      },
      "outputs": [
        {
          "output_type": "stream",
          "name": "stdout",
          "text": [
            " * sqlite:///student_grades.db\n",
            "Done.\n"
          ]
        },
        {
          "output_type": "execute_result",
          "data": {
            "text/plain": [
              "[(87.6,)]"
            ],
            "text/html": [
              "<table>\n",
              "    <thead>\n",
              "        <tr>\n",
              "            <th>avg_math_grade</th>\n",
              "        </tr>\n",
              "    </thead>\n",
              "    <tbody>\n",
              "        <tr>\n",
              "            <td>87.6</td>\n",
              "        </tr>\n",
              "    </tbody>\n",
              "</table>"
            ]
          },
          "metadata": {},
          "execution_count": 10
        }
      ],
      "source": [
        "# 4. Find the average grade for the Math subject\n",
        "%%sql\n",
        "SELECT AVG(grade) AS avg_math_grade\n",
        "FROM grades\n",
        "WHERE subject = 'Math'"
      ]
    },
    {
      "cell_type": "code",
      "execution_count": 11,
      "id": "a5ecb1b3-1f42-4dae-918a-cf96c4b1ae3f",
      "metadata": {
        "colab": {
          "base_uri": "https://localhost:8080/",
          "height": 159
        },
        "id": "a5ecb1b3-1f42-4dae-918a-cf96c4b1ae3f",
        "outputId": "68248d50-29c7-4eec-a5d4-8bd0f507e845"
      },
      "outputs": [
        {
          "output_type": "stream",
          "name": "stdout",
          "text": [
            " * sqlite:///student_grades.db\n",
            "Done.\n"
          ]
        },
        {
          "output_type": "execute_result",
          "data": {
            "text/plain": [
              "[('Alice', 'Johnson'),\n",
              " ('Carol', 'White'),\n",
              " ('David', 'Brown'),\n",
              " ('Eve', 'Davis')]"
            ],
            "text/html": [
              "<table>\n",
              "    <thead>\n",
              "        <tr>\n",
              "            <th>first_name</th>\n",
              "            <th>last_name</th>\n",
              "        </tr>\n",
              "    </thead>\n",
              "    <tbody>\n",
              "        <tr>\n",
              "            <td>Alice</td>\n",
              "            <td>Johnson</td>\n",
              "        </tr>\n",
              "        <tr>\n",
              "            <td>Carol</td>\n",
              "            <td>White</td>\n",
              "        </tr>\n",
              "        <tr>\n",
              "            <td>David</td>\n",
              "            <td>Brown</td>\n",
              "        </tr>\n",
              "        <tr>\n",
              "            <td>Eve</td>\n",
              "            <td>Davis</td>\n",
              "        </tr>\n",
              "    </tbody>\n",
              "</table>"
            ]
          },
          "metadata": {},
          "execution_count": 11
        }
      ],
      "source": [
        "# 5. List all students who scored above 90 in any subject\n",
        "%%sql\n",
        "SELECT DISTINCT s.first_name, s.last_name\n",
        "FROM students s\n",
        "JOIN grades g ON s.student_id = g.student_id\n",
        "WHERE g.grade > 90;"
      ]
    },
    {
      "cell_type": "markdown",
      "id": "e2f4c0f8-e47d-41fc-a44a-763a1d05ee54",
      "metadata": {
        "id": "e2f4c0f8-e47d-41fc-a44a-763a1d05ee54"
      },
      "source": [
        "### 5. Load Data into Pandas"
      ]
    },
    {
      "cell_type": "code",
      "source": [
        "# Load data from students table into a DataFrame\n",
        "students_df = pd.read_sql_query(\"SELECT * FROM students\", conn)\n",
        "\n",
        "# Load data from grades table into a DataFrame\n",
        "grades_df = pd.read_sql_query(\"SELECT * FROM grades\", conn)"
      ],
      "metadata": {
        "id": "1H9T9-M-jsPw"
      },
      "id": "1H9T9-M-jsPw",
      "execution_count": 12,
      "outputs": []
    },
    {
      "cell_type": "code",
      "source": [
        "# Combine data from both tables into a single DataFrame\n",
        "student_grades_df = pd.read_sql_query(\"\"\"\n",
        "SELECT s.first_name, s.last_name, g.subject, g.grade\n",
        "FROM students s\n",
        "JOIN grades g ON s.student_id = g.student_id\n",
        "\"\"\", conn)"
      ],
      "metadata": {
        "id": "ST9PI_DEj51t"
      },
      "id": "ST9PI_DEj51t",
      "execution_count": 14,
      "outputs": []
    },
    {
      "cell_type": "code",
      "source": [
        "# Calculate the average grades for each student\n",
        "avg_grades_by_student = student_grades_df.groupby(['first_name', 'last_name'])['grade'].mean().reset_index()\n",
        "\n",
        "# Plot the average grades for each student\n",
        "plt.figure(figsize=(10, 6))\n",
        "plt.bar(avg_grades_by_student['first_name'] + ' ' + avg_grades_by_student['last_name'], avg_grades_by_student['grade'])\n",
        "plt.title('Average Grades for Each Student')\n",
        "plt.xlabel('Student Name')\n",
        "plt.ylabel('Average Grade')\n",
        "plt.xticks(rotation=45)\n",
        "plt.tight_layout()\n",
        "plt.show()"
      ],
      "metadata": {
        "colab": {
          "base_uri": "https://localhost:8080/",
          "height": 607
        },
        "id": "wc4TTbShj8lf",
        "outputId": "d6d8617d-2b22-4674-dd6d-e779795eddde"
      },
      "id": "wc4TTbShj8lf",
      "execution_count": 24,
      "outputs": [
        {
          "output_type": "display_data",
          "data": {
            "text/plain": [
              "<Figure size 1000x600 with 1 Axes>"
            ],
            "image/png": "[encoded data removed]"
          },
          "metadata": {}
        }
      ]
    },
    {
      "cell_type": "code",
      "source": [
        "# Calculate average grades for each subject\n",
        "avg_grades_by_subject = student_grades_df.groupby('subject')['grade'].mean().reset_index()\n",
        "\n",
        "# Create a bar chart showing the average grade for each subject\n",
        "plt.figure(figsize=(10, 6))\n",
        "plt.bar(avg_grades_by_subject['subject'], avg_grades_by_subject['grade'])\n",
        "plt.title('Average Grades for Each Subject')\n",
        "plt.xlabel('Subject')\n",
        "plt.ylabel('Average Grade')\n",
        "plt.tight_layout()\n",
        "plt.show()"
      ],
      "metadata": {
        "colab": {
          "base_uri": "https://localhost:8080/",
          "height": 607
        },
        "id": "RyN0KTdYlTHs",
        "outputId": "3ce6c29e-b6db-4641-b010-741424686ebf"
      },
      "id": "RyN0KTdYlTHs",
      "execution_count": 25,
      "outputs": [
        {
          "output_type": "display_data",
          "data": {
            "text/plain": [
              "<Figure size 1000x600 with 1 Axes>"
            ],
            "image/png": "[encoded data removed]"
          },
          "metadata": {}
        }
      ]
    }
  ],
  "metadata": {
    "kernelspec": {
      "display_name": "anaconda-2024.02-py310",
      "language": "python",
      "name": "conda-env-anaconda-2024.02-py310-py"
    },
    "language_info": {
      "codemirror_mode": {
        "name": "ipython",
        "version": 3
      },
      "file_extension": ".py",
      "mimetype": "text/x-python",
      "name": "python",
      "nbconvert_exporter": "python",
      "pygments_lexer": "ipython3",
      "version": "3.10.14"
    },
    "colab": {
      "provenance": []
    }
  },
  "nbformat": 4,
  "nbformat_minor": 5
}