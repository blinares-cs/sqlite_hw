{
 "cells": [
  {
   "cell_type": "markdown",
   "id": "e0e34ecc-a1b1-4ec3-b450-f0da7185a8c2",
   "metadata": {},
   "source": [
    "# Working with SQLite and Pandas Homework"
   ]
  },
  {
   "cell_type": "markdown",
   "id": "228aaae3-0ee1-417b-960b-beac25e052d6",
   "metadata": {},
   "source": [
    "### 1. Set Up the Database"
   ]
  },
  {
   "cell_type": "code",
   "execution_count": 310,
   "id": "1b0f487e-9463-42e3-8c56-15cfa117ec59",
   "metadata": {},
   "outputs": [],
   "source": [
    "#Import libraries\n",
    "import sqlite3\n",
    "import pandas as pd\n",
    "import matplotlib.pyplot as plt\n",
    "\n",
    "# Connection to the SQLite database\n",
    "conn = sqlite3.connect('student_grades.db')\n",
    "\n",
    "# Create cursor object to interact with the database\n",
    "c = conn.cursor()"
   ]
  },
  {
   "cell_type": "markdown",
   "id": "23f8ac28-c07b-4139-a9f0-6e90aa88fc5c",
   "metadata": {},
   "source": [
    "### 2. Create the Necessary Tables"
   ]
  },
  {
   "cell_type": "code",
   "execution_count": 313,
   "id": "6b9c8306-369e-4343-932a-ae0af327b4f0",
   "metadata": {},
   "outputs": [
    {
     "ename": "OperationalError",
     "evalue": "table students already exists",
     "output_type": "error",
     "traceback": [
      "\u001b[0;31m---------------------------------------------------------------------------\u001b[0m",
      "\u001b[0;31mOperationalError\u001b[0m                          Traceback (most recent call last)",
      "Cell \u001b[0;32mIn[313], line 2\u001b[0m\n\u001b[1;32m      1\u001b[0m \u001b[38;5;66;03m# Create \"students\" table to store student information\u001b[39;00m\n\u001b[0;32m----> 2\u001b[0m \u001b[43mc\u001b[49m\u001b[38;5;241;43m.\u001b[39;49m\u001b[43mexecute\u001b[49m\u001b[43m(\u001b[49m\u001b[43m \u001b[49m\n\u001b[1;32m      3\u001b[0m \u001b[38;5;250;43m    \u001b[39;49m\u001b[38;5;124;43;03m\"\"\"CREATE TABLE students (\u001b[39;49;00m\n\u001b[1;32m      4\u001b[0m \u001b[38;5;124;43;03m    student_id INTEGER PRIMARY KEY AUTOINCREMENT, \u001b[39;49;00m\n\u001b[1;32m      5\u001b[0m \u001b[38;5;124;43;03m    first_name TEXT, \u001b[39;49;00m\n\u001b[1;32m      6\u001b[0m \u001b[38;5;124;43;03m    last_name TEXT\u001b[39;49;00m\n\u001b[1;32m      7\u001b[0m \u001b[38;5;124;43;03m    );\"\"\"\u001b[39;49;00m\n\u001b[1;32m      8\u001b[0m \u001b[43m)\u001b[49m\n\u001b[1;32m      9\u001b[0m conn\u001b[38;5;241m.\u001b[39mcommit()\n",
      "\u001b[0;31mOperationalError\u001b[0m: table students already exists"
     ]
    }
   ],
   "source": [
    "# Create \"students\" table to store student information\n",
    "c.execute( \n",
    "    \"\"\"CREATE TABLE students (\n",
    "    student_id INTEGER PRIMARY KEY AUTOINCREMENT, \n",
    "    first_name TEXT, \n",
    "    last_name TEXT\n",
    "    );\"\"\"\n",
    ")\n",
    "conn.commit()"
   ]
  },
  {
   "cell_type": "code",
   "execution_count": 315,
   "id": "579ea02d-1637-4250-b577-acd739a35bcc",
   "metadata": {},
   "outputs": [
    {
     "ename": "OperationalError",
     "evalue": "table grades already exists",
     "output_type": "error",
     "traceback": [
      "\u001b[0;31m---------------------------------------------------------------------------\u001b[0m",
      "\u001b[0;31mOperationalError\u001b[0m                          Traceback (most recent call last)",
      "Cell \u001b[0;32mIn[315], line 2\u001b[0m\n\u001b[1;32m      1\u001b[0m \u001b[38;5;66;03m# Create \"grades\" table to store student grades for different subjects\u001b[39;00m\n\u001b[0;32m----> 2\u001b[0m \u001b[43mc\u001b[49m\u001b[38;5;241;43m.\u001b[39;49m\u001b[43mexecute\u001b[49m\u001b[43m(\u001b[49m\n\u001b[1;32m      3\u001b[0m \u001b[38;5;250;43m    \u001b[39;49m\u001b[38;5;124;43;03m\"\"\"CREATE TABLE grades (\u001b[39;49;00m\n\u001b[1;32m      4\u001b[0m \u001b[38;5;124;43;03m    grade_id INTEGER PRIMARY KEY AUTOINCREMENT,\u001b[39;49;00m\n\u001b[1;32m      5\u001b[0m \u001b[38;5;124;43;03m    student_id INTEGER,\u001b[39;49;00m\n\u001b[1;32m      6\u001b[0m \u001b[38;5;124;43;03m    subject TEXT, \u001b[39;49;00m\n\u001b[1;32m      7\u001b[0m \u001b[38;5;124;43;03m    grade INTEGER,\u001b[39;49;00m\n\u001b[1;32m      8\u001b[0m \u001b[38;5;124;43;03m    FOREIGN KEY (student_id) REFERENCES students (student_id)\u001b[39;49;00m\n\u001b[1;32m      9\u001b[0m \u001b[38;5;124;43;03m    );\"\"\"\u001b[39;49;00m\n\u001b[1;32m     10\u001b[0m \u001b[43m)\u001b[49m\n\u001b[1;32m     11\u001b[0m conn\u001b[38;5;241m.\u001b[39mcommit()\n",
      "\u001b[0;31mOperationalError\u001b[0m: table grades already exists"
     ]
    }
   ],
   "source": [
    "# Create \"grades\" table to store student grades for different subjects\n",
    "c.execute(\n",
    "    \"\"\"CREATE TABLE grades (\n",
    "    grade_id INTEGER PRIMARY KEY AUTOINCREMENT,\n",
    "    student_id INTEGER,\n",
    "    subject TEXT, \n",
    "    grade INTEGER,\n",
    "    FOREIGN KEY (student_id) REFERENCES students (student_id)\n",
    "    );\"\"\"\n",
    ")\n",
    "conn.commit()"
   ]
  },
  {
   "cell_type": "markdown",
   "id": "d38a6cbd-030b-4d00-bbd0-1e7a44f11520",
   "metadata": {},
   "source": [
    "### 3. Insert Data into the Tables"
   ]
  },
  {
   "cell_type": "code",
   "execution_count": 318,
   "id": "eda81b04-3b8e-4129-ae5f-e95f64a39aa3",
   "metadata": {},
   "outputs": [
    {
     "name": "stdout",
     "output_type": "stream",
     "text": [
      "Students Table:\n",
      " student_id first_name last_name\n",
      "          1      Alice   Johnson\n",
      "          2        Bob     Smith\n",
      "          3      Carol     White\n",
      "          4      David     Brown\n",
      "          5        Eve     Davis\n",
      "          6      Alice   Johnson\n",
      "          7        Bob     Smith\n",
      "          8      Carol     White\n",
      "          9      David     Brown\n",
      "         10        Eve     Davis\n"
     ]
    }
   ],
   "source": [
    "# Inserting the data into the \"students\" table\n",
    "students_data = [('Alice', 'Johnson'), ('Bob', 'Smith'), ('Carol', 'White'), ('David', 'Brown'), ('Eve', 'Davis')]\n",
    "c.executemany('INSERT INTO students (first_name, last_name) VALUES (?, ?)', students_data)\n",
    "conn.commit()\n",
    "# Showing the students table to check if the data was added\n",
    "print(\"Students Table:\")\n",
    "print(students_df.to_string(index=False))"
   ]
  },
  {
   "cell_type": "code",
   "execution_count": 320,
   "id": "bd0f3458-77c8-4294-9cf1-9439b11cd298",
   "metadata": {},
   "outputs": [
    {
     "name": "stdout",
     "output_type": "stream",
     "text": [
      "\n",
      "Grades Table:\n",
      " grade_id  student_id subject  grade\n",
      "        1           1    Math     95\n",
      "        2           1 English     88\n",
      "        3           1 History     90\n",
      "        4           2    Math     82\n",
      "        5           2 English     76\n",
      "        6           2 History     85\n",
      "        7           3    Math     91\n",
      "        8           3 English     92\n",
      "        9           3 History     89\n",
      "       10           4    Math     70\n",
      "       11           4 English     75\n",
      "       12           4 History     80\n",
      "       13           5    Math    100\n",
      "       14           5 English     95\n",
      "       15           5 History     99\n"
     ]
    }
   ],
   "source": [
    "# Inserting the data into the \"grades\" table\n",
    "grades_data = [(1, 'Math', 95), (1, 'English', 88), (1, 'History', 90), (2, 'Math', 82), (2, 'English', 76), (2, 'History', 85), (3, 'Math', 91), (3, 'English', 92), (3, 'History', 89), (4, 'Math', 70), (4, 'English', 75), (4, 'History', 80), (5, 'Math', 100), (5, 'English', 95), (5, 'History', 99)]\n",
    "c.executemany('INSERT INTO grades (student_id, subject, grade) VALUES (?, ?, ?)', grades_data)\n",
    "conn.commit()\n",
    "# Showing the grades table to check if the data was added\n",
    "print(\"\\nGrades Table:\")\n",
    "print(grades_df.to_string(index=False))"
   ]
  },
  {
   "cell_type": "markdown",
   "id": "203bf605-932e-46d0-88e1-effa1851da8b",
   "metadata": {},
   "source": [
    "### 4. Perform SQL Queries"
   ]
  },
  {
   "cell_type": "code",
   "execution_count": 323,
   "id": "86de596f-14d1-449b-bb1a-5fd42dc62bd3",
   "metadata": {},
   "outputs": [
    {
     "ename": "ModuleNotFoundError",
     "evalue": "No module named 'sql'",
     "output_type": "error",
     "traceback": [
      "\u001b[0;31m---------------------------------------------------------------------------\u001b[0m",
      "\u001b[0;31mModuleNotFoundError\u001b[0m                       Traceback (most recent call last)",
      "Cell \u001b[0;32mIn[323], line 1\u001b[0m\n\u001b[0;32m----> 1\u001b[0m \u001b[43mget_ipython\u001b[49m\u001b[43m(\u001b[49m\u001b[43m)\u001b[49m\u001b[38;5;241;43m.\u001b[39;49m\u001b[43mrun_line_magic\u001b[49m\u001b[43m(\u001b[49m\u001b[38;5;124;43m'\u001b[39;49m\u001b[38;5;124;43mload_ext\u001b[39;49m\u001b[38;5;124;43m'\u001b[39;49m\u001b[43m,\u001b[49m\u001b[43m \u001b[49m\u001b[38;5;124;43m'\u001b[39;49m\u001b[38;5;124;43msql\u001b[39;49m\u001b[38;5;124;43m'\u001b[39;49m\u001b[43m)\u001b[49m\n\u001b[1;32m      2\u001b[0m get_ipython()\u001b[38;5;241m.\u001b[39mrun_line_magic(\u001b[38;5;124m'\u001b[39m\u001b[38;5;124msql\u001b[39m\u001b[38;5;124m'\u001b[39m, \u001b[38;5;124m'\u001b[39m\u001b[38;5;124msqlite:///student_grades.db\u001b[39m\u001b[38;5;124m'\u001b[39m)\n",
      "File \u001b[0;32m/opt/conda/envs/anaconda-2024.02-py310/lib/python3.10/site-packages/IPython/core/interactiveshell.py:2456\u001b[0m, in \u001b[0;36mInteractiveShell.run_line_magic\u001b[0;34m(self, magic_name, line, _stack_depth)\u001b[0m\n\u001b[1;32m   2454\u001b[0m     kwargs[\u001b[38;5;124m'\u001b[39m\u001b[38;5;124mlocal_ns\u001b[39m\u001b[38;5;124m'\u001b[39m] \u001b[38;5;241m=\u001b[39m \u001b[38;5;28mself\u001b[39m\u001b[38;5;241m.\u001b[39mget_local_scope(stack_depth)\n\u001b[1;32m   2455\u001b[0m \u001b[38;5;28;01mwith\u001b[39;00m \u001b[38;5;28mself\u001b[39m\u001b[38;5;241m.\u001b[39mbuiltin_trap:\n\u001b[0;32m-> 2456\u001b[0m     result \u001b[38;5;241m=\u001b[39m \u001b[43mfn\u001b[49m\u001b[43m(\u001b[49m\u001b[38;5;241;43m*\u001b[39;49m\u001b[43margs\u001b[49m\u001b[43m,\u001b[49m\u001b[43m \u001b[49m\u001b[38;5;241;43m*\u001b[39;49m\u001b[38;5;241;43m*\u001b[39;49m\u001b[43mkwargs\u001b[49m\u001b[43m)\u001b[49m\n\u001b[1;32m   2458\u001b[0m \u001b[38;5;66;03m# The code below prevents the output from being displayed\u001b[39;00m\n\u001b[1;32m   2459\u001b[0m \u001b[38;5;66;03m# when using magics with decorator @output_can_be_silenced\u001b[39;00m\n\u001b[1;32m   2460\u001b[0m \u001b[38;5;66;03m# when the last Python token in the expression is a ';'.\u001b[39;00m\n\u001b[1;32m   2461\u001b[0m \u001b[38;5;28;01mif\u001b[39;00m \u001b[38;5;28mgetattr\u001b[39m(fn, magic\u001b[38;5;241m.\u001b[39mMAGIC_OUTPUT_CAN_BE_SILENCED, \u001b[38;5;28;01mFalse\u001b[39;00m):\n",
      "File \u001b[0;32m/opt/conda/envs/anaconda-2024.02-py310/lib/python3.10/site-packages/IPython/core/magics/extension.py:33\u001b[0m, in \u001b[0;36mExtensionMagics.load_ext\u001b[0;34m(self, module_str)\u001b[0m\n\u001b[1;32m     31\u001b[0m \u001b[38;5;28;01mif\u001b[39;00m \u001b[38;5;129;01mnot\u001b[39;00m module_str:\n\u001b[1;32m     32\u001b[0m     \u001b[38;5;28;01mraise\u001b[39;00m UsageError(\u001b[38;5;124m'\u001b[39m\u001b[38;5;124mMissing module name.\u001b[39m\u001b[38;5;124m'\u001b[39m)\n\u001b[0;32m---> 33\u001b[0m res \u001b[38;5;241m=\u001b[39m \u001b[38;5;28;43mself\u001b[39;49m\u001b[38;5;241;43m.\u001b[39;49m\u001b[43mshell\u001b[49m\u001b[38;5;241;43m.\u001b[39;49m\u001b[43mextension_manager\u001b[49m\u001b[38;5;241;43m.\u001b[39;49m\u001b[43mload_extension\u001b[49m\u001b[43m(\u001b[49m\u001b[43mmodule_str\u001b[49m\u001b[43m)\u001b[49m\n\u001b[1;32m     35\u001b[0m \u001b[38;5;28;01mif\u001b[39;00m res \u001b[38;5;241m==\u001b[39m \u001b[38;5;124m'\u001b[39m\u001b[38;5;124malready loaded\u001b[39m\u001b[38;5;124m'\u001b[39m:\n\u001b[1;32m     36\u001b[0m     \u001b[38;5;28mprint\u001b[39m(\u001b[38;5;124m\"\u001b[39m\u001b[38;5;124mThe \u001b[39m\u001b[38;5;132;01m%s\u001b[39;00m\u001b[38;5;124m extension is already loaded. To reload it, use:\u001b[39m\u001b[38;5;124m\"\u001b[39m \u001b[38;5;241m%\u001b[39m module_str)\n",
      "File \u001b[0;32m/opt/conda/envs/anaconda-2024.02-py310/lib/python3.10/site-packages/IPython/core/extensions.py:76\u001b[0m, in \u001b[0;36mExtensionManager.load_extension\u001b[0;34m(self, module_str)\u001b[0m\n\u001b[1;32m     69\u001b[0m \u001b[38;5;250m\u001b[39m\u001b[38;5;124;03m\"\"\"Load an IPython extension by its module name.\u001b[39;00m\n\u001b[1;32m     70\u001b[0m \n\u001b[1;32m     71\u001b[0m \u001b[38;5;124;03mReturns the string \"already loaded\" if the extension is already loaded,\u001b[39;00m\n\u001b[1;32m     72\u001b[0m \u001b[38;5;124;03m\"no load function\" if the module doesn't have a load_ipython_extension\u001b[39;00m\n\u001b[1;32m     73\u001b[0m \u001b[38;5;124;03mfunction, or None if it succeeded.\u001b[39;00m\n\u001b[1;32m     74\u001b[0m \u001b[38;5;124;03m\"\"\"\u001b[39;00m\n\u001b[1;32m     75\u001b[0m \u001b[38;5;28;01mtry\u001b[39;00m:\n\u001b[0;32m---> 76\u001b[0m     \u001b[38;5;28;01mreturn\u001b[39;00m \u001b[38;5;28;43mself\u001b[39;49m\u001b[38;5;241;43m.\u001b[39;49m\u001b[43m_load_extension\u001b[49m\u001b[43m(\u001b[49m\u001b[43mmodule_str\u001b[49m\u001b[43m)\u001b[49m\n\u001b[1;32m     77\u001b[0m \u001b[38;5;28;01mexcept\u001b[39;00m \u001b[38;5;167;01mModuleNotFoundError\u001b[39;00m:\n\u001b[1;32m     78\u001b[0m     \u001b[38;5;28;01mif\u001b[39;00m module_str \u001b[38;5;129;01min\u001b[39;00m BUILTINS_EXTS:\n",
      "File \u001b[0;32m/opt/conda/envs/anaconda-2024.02-py310/lib/python3.10/site-packages/IPython/core/extensions.py:91\u001b[0m, in \u001b[0;36mExtensionManager._load_extension\u001b[0;34m(self, module_str)\u001b[0m\n\u001b[1;32m     89\u001b[0m \u001b[38;5;28;01mwith\u001b[39;00m \u001b[38;5;28mself\u001b[39m\u001b[38;5;241m.\u001b[39mshell\u001b[38;5;241m.\u001b[39mbuiltin_trap:\n\u001b[1;32m     90\u001b[0m     \u001b[38;5;28;01mif\u001b[39;00m module_str \u001b[38;5;129;01mnot\u001b[39;00m \u001b[38;5;129;01min\u001b[39;00m sys\u001b[38;5;241m.\u001b[39mmodules:\n\u001b[0;32m---> 91\u001b[0m         mod \u001b[38;5;241m=\u001b[39m \u001b[43mimport_module\u001b[49m\u001b[43m(\u001b[49m\u001b[43mmodule_str\u001b[49m\u001b[43m)\u001b[49m\n\u001b[1;32m     92\u001b[0m     mod \u001b[38;5;241m=\u001b[39m sys\u001b[38;5;241m.\u001b[39mmodules[module_str]\n\u001b[1;32m     93\u001b[0m     \u001b[38;5;28;01mif\u001b[39;00m \u001b[38;5;28mself\u001b[39m\u001b[38;5;241m.\u001b[39m_call_load_ipython_extension(mod):\n",
      "File \u001b[0;32m/opt/conda/envs/anaconda-2024.02-py310/lib/python3.10/importlib/__init__.py:126\u001b[0m, in \u001b[0;36mimport_module\u001b[0;34m(name, package)\u001b[0m\n\u001b[1;32m    124\u001b[0m             \u001b[38;5;28;01mbreak\u001b[39;00m\n\u001b[1;32m    125\u001b[0m         level \u001b[38;5;241m+\u001b[39m\u001b[38;5;241m=\u001b[39m \u001b[38;5;241m1\u001b[39m\n\u001b[0;32m--> 126\u001b[0m \u001b[38;5;28;01mreturn\u001b[39;00m \u001b[43m_bootstrap\u001b[49m\u001b[38;5;241;43m.\u001b[39;49m\u001b[43m_gcd_import\u001b[49m\u001b[43m(\u001b[49m\u001b[43mname\u001b[49m\u001b[43m[\u001b[49m\u001b[43mlevel\u001b[49m\u001b[43m:\u001b[49m\u001b[43m]\u001b[49m\u001b[43m,\u001b[49m\u001b[43m \u001b[49m\u001b[43mpackage\u001b[49m\u001b[43m,\u001b[49m\u001b[43m \u001b[49m\u001b[43mlevel\u001b[49m\u001b[43m)\u001b[49m\n",
      "File \u001b[0;32m<frozen importlib._bootstrap>:1050\u001b[0m, in \u001b[0;36m_gcd_import\u001b[0;34m(name, package, level)\u001b[0m\n",
      "File \u001b[0;32m<frozen importlib._bootstrap>:1027\u001b[0m, in \u001b[0;36m_find_and_load\u001b[0;34m(name, import_)\u001b[0m\n",
      "File \u001b[0;32m<frozen importlib._bootstrap>:1004\u001b[0m, in \u001b[0;36m_find_and_load_unlocked\u001b[0;34m(name, import_)\u001b[0m\n",
      "\u001b[0;31mModuleNotFoundError\u001b[0m: No module named 'sql'"
     ]
    }
   ],
   "source": [
    "%load_ext sql\n",
    "%sql sqlite:///student_grades.db"
   ]
  },
  {
   "cell_type": "code",
   "execution_count": 298,
   "id": "979e9978-4a67-47dc-9a94-0dc7e480aa5c",
   "metadata": {},
   "outputs": [
    {
     "ename": "SyntaxError",
     "evalue": "invalid syntax (3932000397.py, line 3)",
     "output_type": "error",
     "traceback": [
      "\u001b[0;36m  Cell \u001b[0;32mIn[298], line 3\u001b[0;36m\u001b[0m\n\u001b[0;31m    SELECT s.first_name, s.last_name, g.subject, g.grade\u001b[0m\n\u001b[0m           ^\u001b[0m\n\u001b[0;31mSyntaxError\u001b[0m\u001b[0;31m:\u001b[0m invalid syntax\n"
     ]
    }
   ],
   "source": [
    "# Retrieve all students' names and their grades\n",
    "%%sql\n",
    "SELECT s.first_name, s.last_name, g.subject, g.grade\n",
    "FROM students s\n",
    "JOIN grades g ON s.student_id = g.student_id"
   ]
  },
  {
   "cell_type": "code",
   "execution_count": 300,
   "id": "0688615b-161d-444a-ab99-0c1680f3d8f7",
   "metadata": {},
   "outputs": [
    {
     "ename": "SyntaxError",
     "evalue": "invalid syntax (2416412899.py, line 3)",
     "output_type": "error",
     "traceback": [
      "\u001b[0;36m  Cell \u001b[0;32mIn[300], line 3\u001b[0;36m\u001b[0m\n\u001b[0;31m    SELECT s.first_name, s.last_name, AVG(g.grade) AS average_grade\u001b[0m\n\u001b[0m           ^\u001b[0m\n\u001b[0;31mSyntaxError\u001b[0m\u001b[0;31m:\u001b[0m invalid syntax\n"
     ]
    }
   ],
   "source": [
    "# Find the average grade for each student\n",
    "%%sql\n",
    "SELECT s.first_name, s.last_name, AVG(g.grade) AS average_grade\n",
    "FROM students s\n",
    "JOIN grades g ON s.student_id = g.student_id\n",
    "GROUP BY s.student_id"
   ]
  },
  {
   "cell_type": "code",
   "execution_count": 302,
   "id": "d1e7054d-c6ab-4fca-8b79-a931fa72b39d",
   "metadata": {},
   "outputs": [
    {
     "ename": "SyntaxError",
     "evalue": "invalid syntax (1991551071.py, line 3)",
     "output_type": "error",
     "traceback": [
      "\u001b[0;36m  Cell \u001b[0;32mIn[302], line 3\u001b[0;36m\u001b[0m\n\u001b[0;31m    SELECT s.first_name, s.last_name, AVG(g.grade) AS average_grade\u001b[0m\n\u001b[0m           ^\u001b[0m\n\u001b[0;31mSyntaxError\u001b[0m\u001b[0;31m:\u001b[0m invalid syntax\n"
     ]
    }
   ],
   "source": [
    "# Find the student with the highest average grade\n",
    "%%sql\n",
    "SELECT s.first_name, s.last_name, AVG(g.grade) AS average_grade\n",
    "FROM students s\n",
    "JOIN grades g ON s.student_id = g.student_id\n",
    "GROUP BY s.student_id\n",
    "ORDER BY average_grade DESC\n",
    "LIMIT 1"
   ]
  },
  {
   "cell_type": "code",
   "execution_count": 304,
   "id": "c0775758-b46a-4867-961a-ef42464e795b",
   "metadata": {},
   "outputs": [
    {
     "ename": "SyntaxError",
     "evalue": "invalid syntax (3088087886.py, line 3)",
     "output_type": "error",
     "traceback": [
      "\u001b[0;36m  Cell \u001b[0;32mIn[304], line 3\u001b[0;36m\u001b[0m\n\u001b[0;31m    SELECT AVG(grade) AS avg_math_grade\u001b[0m\n\u001b[0m           ^\u001b[0m\n\u001b[0;31mSyntaxError\u001b[0m\u001b[0;31m:\u001b[0m invalid syntax\n"
     ]
    }
   ],
   "source": [
    "# Find the average grade for the Math subject\n",
    "%%sql\n",
    "SELECT AVG(grade) AS avg_math_grade\n",
    "FROM grades\n",
    "WHERE subject = 'Math'"
   ]
  },
  {
   "cell_type": "code",
   "execution_count": 306,
   "id": "a5ecb1b3-1f42-4dae-918a-cf96c4b1ae3f",
   "metadata": {},
   "outputs": [
    {
     "ename": "SyntaxError",
     "evalue": "invalid syntax (1896107580.py, line 3)",
     "output_type": "error",
     "traceback": [
      "\u001b[0;36m  Cell \u001b[0;32mIn[306], line 3\u001b[0;36m\u001b[0m\n\u001b[0;31m    SELECT DISTINCT s.first_name, s.last_name\u001b[0m\n\u001b[0m           ^\u001b[0m\n\u001b[0;31mSyntaxError\u001b[0m\u001b[0;31m:\u001b[0m invalid syntax\n"
     ]
    }
   ],
   "source": [
    "# List all students who scored above 90 in any subject\n",
    "%%sql\n",
    "SELECT DISTINCT s.first_name, s.last_name\n",
    "FROM students s\n",
    "JOIN grades g ON s.student_id = g.student_id\n",
    "WHERE g.grade > 90"
   ]
  },
  {
   "cell_type": "markdown",
   "id": "e2f4c0f8-e47d-41fc-a44a-763a1d05ee54",
   "metadata": {},
   "source": [
    "### 5. Load Data into Pandas"
   ]
  },
  {
   "cell_type": "code",
   "execution_count": 308,
   "id": "ff02ac1f-8e80-49de-bb7f-ec8416c19c0e",
   "metadata": {},
   "outputs": [
    {
     "ename": "SyntaxError",
     "evalue": "invalid syntax (2119867367.py, line 3)",
     "output_type": "error",
     "traceback": [
      "\u001b[0;36m  Cell \u001b[0;32mIn[308], line 3\u001b[0;36m\u001b[0m\n\u001b[0;31m    SELECT s.first_name || ' ' || s.last_name AS student_name, AVG(g.grade) AS average_grade\u001b[0m\n\u001b[0m           ^\u001b[0m\n\u001b[0;31mSyntaxError\u001b[0m\u001b[0;31m:\u001b[0m invalid syntax\n"
     ]
    }
   ],
   "source": [
    "# Average Grades for Each Student\n",
    "%%sql\n",
    "SELECT s.first_name || ' ' || s.last_name AS student_name, AVG(g.grade) AS average_grade\n",
    "FROM students s\n",
    "JOIN grades g ON s.student_id = g.student_id\n",
    "GROUP BY s.student_id\n",
    "\n",
    "student_avg_df = %sql SELECT s.first_name || ' ' || s.last_name AS student_name, AVG(g.grade) AS average_grade FROM students s JOIN grades g ON s.student_id = g.student_id GROUP BY s.student_id\n",
    "student_avg_df = student_avg_df.DataFrame()\n",
    "\n",
    "# Average Grades for Each Subject\n",
    "%%sql\n",
    "SELECT g.subject, AVG(g.grade) AS average_grade\n",
    "FROM grades g\n",
    "GROUP BY g.subject\n",
    "\n",
    "subject_avg_df = %sql SELECT g.subject, AVG(g.grade) AS average_grade FROM grades g GROUP BY g.subject\n",
    "subject_avg_df = subject_avg_df.DataFrame()\n",
    "\n",
    "\n",
    "import matplotlib.pyplot as plt\n",
    "\n",
    "# Plot Average Grades for Each Student\n",
    "plt.figure(figsize=(10, 6))\n",
    "plt.bar(student_avg_df['student_name'], student_avg_df['average_grade'], color='skyblue')\n",
    "plt.title('Average Grades for Each Student')\n",
    "plt.xlabel('Student Name')\n",
    "plt.ylabel('Average Grade')\n",
    "plt.xticks(rotation=45)\n",
    "plt.tight_layout()\n",
    "plt.show()\n",
    "\n",
    "# Plot Average Grades for Each Subject\n",
    "plt.figure(figsize=(10, 6))\n",
    "plt.bar(subject_avg_df['subject'], subject_avg_df['average_grade'], color='salmon')\n",
    "plt.title('Average Grades for Each Subject')\n",
    "plt.xlabel('Subject')\n",
    "plt.ylabel('Average Grade')\n",
    "plt.tight_layout()\n",
    "plt.show()\n"
   ]
  },
  {
   "cell_type": "code",
   "execution_count": null,
   "id": "b50dc917-486b-49f2-b183-0e2b7588686c",
   "metadata": {},
   "outputs": [],
   "source": []
  }
 ],
 "metadata": {
  "kernelspec": {
   "display_name": "anaconda-2024.02-py310",
   "language": "python",
   "name": "conda-env-anaconda-2024.02-py310-py"
  },
  "language_info": {
   "codemirror_mode": {
    "name": "ipython",
    "version": 3
   },
   "file_extension": ".py",
   "mimetype": "text/x-python",
   "name": "python",
   "nbconvert_exporter": "python",
   "pygments_lexer": "ipython3",
   "version": "3.10.14"
  }
 },
 "nbformat": 4,
 "nbformat_minor": 5
}
